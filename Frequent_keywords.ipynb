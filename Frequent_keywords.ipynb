{
  "cells": [
    {
      "cell_type": "code",
      "execution_count": null,
      "metadata": {
        "id": "bfz9uSxa20iW"
      },
      "outputs": [],
      "source": [
        "import nltk\n",
        "from nltk.corpus import stopwords"
      ]
    },
    {
      "cell_type": "code",
      "execution_count": null,
      "metadata": {
        "id": "Mwrd5tJ-Cgy0"
      },
      "outputs": [],
      "source": [
        "import pandas as pd"
      ]
    },
    {
      "cell_type": "code",
      "execution_count": null,
      "metadata": {
        "colab": {
          "base_uri": "https://localhost:8080/",
          "height": 285
        },
        "id": "nDTn3pjECiR7",
        "outputId": "2714f0f8-f737-4c0a-d5d0-5a0a00df8f79"
      },
      "outputs": [
        {
          "data": {
            "text/html": [
              "\n",
              "  <div id=\"df-ce377d71-3b30-4d92-aeee-219bada443d3\">\n",
              "    <div class=\"colab-df-container\">\n",
              "      <div>\n",
              "<style scoped>\n",
              "    .dataframe tbody tr th:only-of-type {\n",
              "        vertical-align: middle;\n",
              "    }\n",
              "\n",
              "    .dataframe tbody tr th {\n",
              "        vertical-align: top;\n",
              "    }\n",
              "\n",
              "    .dataframe thead th {\n",
              "        text-align: right;\n",
              "    }\n",
              "</style>\n",
              "<table border=\"1\" class=\"dataframe\">\n",
              "  <thead>\n",
              "    <tr style=\"text-align: right;\">\n",
              "      <th></th>\n",
              "      <th>Title</th>\n",
              "      <th>Strory</th>\n",
              "      <th>Unnamed: 2</th>\n",
              "      <th>Unnamed: 3</th>\n",
              "      <th>https://mocomi.com/fun/stories/indian-folk-tales/</th>\n",
              "    </tr>\n",
              "  </thead>\n",
              "  <tbody>\n",
              "    <tr>\n",
              "      <th>0</th>\n",
              "      <td>Hare and Tortoise</td>\n",
              "      <td>A Hare was making fun of the Tortoise one day ...</td>\n",
              "      <td>NaN</td>\n",
              "      <td>NaN</td>\n",
              "      <td>NaN</td>\n",
              "    </tr>\n",
              "    <tr>\n",
              "      <th>1</th>\n",
              "      <td>Abhimanyu and Ghatotakach</td>\n",
              "      <td>Abhimanyu and Ghatotkach are two important cha...</td>\n",
              "      <td>NaN</td>\n",
              "      <td>NaN</td>\n",
              "      <td>NaN</td>\n",
              "    </tr>\n",
              "    <tr>\n",
              "      <th>2</th>\n",
              "      <td>Saint Kabir</td>\n",
              "      <td>The saint poet Kabir is one of the most intere...</td>\n",
              "      <td>NaN</td>\n",
              "      <td>NaN</td>\n",
              "      <td>NaN</td>\n",
              "    </tr>\n",
              "    <tr>\n",
              "      <th>3</th>\n",
              "      <td>Samudra Manthan</td>\n",
              "      <td>Lord Indra, while riding his elephant, Airavat...</td>\n",
              "      <td>NaN</td>\n",
              "      <td>NaN</td>\n",
              "      <td>NaN</td>\n",
              "    </tr>\n",
              "    <tr>\n",
              "      <th>4</th>\n",
              "      <td>King Ratnideva</td>\n",
              "      <td>King Ratnideva was well known not only on Eart...</td>\n",
              "      <td>NaN</td>\n",
              "      <td>NaN</td>\n",
              "      <td>NaN</td>\n",
              "    </tr>\n",
              "  </tbody>\n",
              "</table>\n",
              "</div>\n",
              "      <button class=\"colab-df-convert\" onclick=\"convertToInteractive('df-ce377d71-3b30-4d92-aeee-219bada443d3')\"\n",
              "              title=\"Convert this dataframe to an interactive table.\"\n",
              "              style=\"display:none;\">\n",
              "        \n",
              "  <svg xmlns=\"http://www.w3.org/2000/svg\" height=\"24px\"viewBox=\"0 0 24 24\"\n",
              "       width=\"24px\">\n",
              "    <path d=\"M0 0h24v24H0V0z\" fill=\"none\"/>\n",
              "    <path d=\"M18.56 5.44l.94 2.06.94-2.06 2.06-.94-2.06-.94-.94-2.06-.94 2.06-2.06.94zm-11 1L8.5 8.5l.94-2.06 2.06-.94-2.06-.94L8.5 2.5l-.94 2.06-2.06.94zm10 10l.94 2.06.94-2.06 2.06-.94-2.06-.94-.94-2.06-.94 2.06-2.06.94z\"/><path d=\"M17.41 7.96l-1.37-1.37c-.4-.4-.92-.59-1.43-.59-.52 0-1.04.2-1.43.59L10.3 9.45l-7.72 7.72c-.78.78-.78 2.05 0 2.83L4 21.41c.39.39.9.59 1.41.59.51 0 1.02-.2 1.41-.59l7.78-7.78 2.81-2.81c.8-.78.8-2.07 0-2.86zM5.41 20L4 18.59l7.72-7.72 1.47 1.35L5.41 20z\"/>\n",
              "  </svg>\n",
              "      </button>\n",
              "      \n",
              "  <style>\n",
              "    .colab-df-container {\n",
              "      display:flex;\n",
              "      flex-wrap:wrap;\n",
              "      gap: 12px;\n",
              "    }\n",
              "\n",
              "    .colab-df-convert {\n",
              "      background-color: #E8F0FE;\n",
              "      border: none;\n",
              "      border-radius: 50%;\n",
              "      cursor: pointer;\n",
              "      display: none;\n",
              "      fill: #1967D2;\n",
              "      height: 32px;\n",
              "      padding: 0 0 0 0;\n",
              "      width: 32px;\n",
              "    }\n",
              "\n",
              "    .colab-df-convert:hover {\n",
              "      background-color: #E2EBFA;\n",
              "      box-shadow: 0px 1px 2px rgba(60, 64, 67, 0.3), 0px 1px 3px 1px rgba(60, 64, 67, 0.15);\n",
              "      fill: #174EA6;\n",
              "    }\n",
              "\n",
              "    [theme=dark] .colab-df-convert {\n",
              "      background-color: #3B4455;\n",
              "      fill: #D2E3FC;\n",
              "    }\n",
              "\n",
              "    [theme=dark] .colab-df-convert:hover {\n",
              "      background-color: #434B5C;\n",
              "      box-shadow: 0px 1px 3px 1px rgba(0, 0, 0, 0.15);\n",
              "      filter: drop-shadow(0px 1px 2px rgba(0, 0, 0, 0.3));\n",
              "      fill: #FFFFFF;\n",
              "    }\n",
              "  </style>\n",
              "\n",
              "      <script>\n",
              "        const buttonEl =\n",
              "          document.querySelector('#df-ce377d71-3b30-4d92-aeee-219bada443d3 button.colab-df-convert');\n",
              "        buttonEl.style.display =\n",
              "          google.colab.kernel.accessAllowed ? 'block' : 'none';\n",
              "\n",
              "        async function convertToInteractive(key) {\n",
              "          const element = document.querySelector('#df-ce377d71-3b30-4d92-aeee-219bada443d3');\n",
              "          const dataTable =\n",
              "            await google.colab.kernel.invokeFunction('convertToInteractive',\n",
              "                                                     [key], {});\n",
              "          if (!dataTable) return;\n",
              "\n",
              "          const docLinkHtml = 'Like what you see? Visit the ' +\n",
              "            '<a target=\"_blank\" href=https://colab.research.google.com/notebooks/data_table.ipynb>data table notebook</a>'\n",
              "            + ' to learn more about interactive tables.';\n",
              "          element.innerHTML = '';\n",
              "          dataTable['output_type'] = 'display_data';\n",
              "          await google.colab.output.renderOutput(dataTable, element);\n",
              "          const docLink = document.createElement('div');\n",
              "          docLink.innerHTML = docLinkHtml;\n",
              "          element.appendChild(docLink);\n",
              "        }\n",
              "      </script>\n",
              "    </div>\n",
              "  </div>\n",
              "  "
            ],
            "text/plain": [
              "                       Title  \\\n",
              "0          Hare and Tortoise   \n",
              "1  Abhimanyu and Ghatotakach   \n",
              "2                Saint Kabir   \n",
              "3            Samudra Manthan   \n",
              "4             King Ratnideva   \n",
              "\n",
              "                                              Strory  Unnamed: 2  Unnamed: 3  \\\n",
              "0  A Hare was making fun of the Tortoise one day ...         NaN         NaN   \n",
              "1  Abhimanyu and Ghatotkach are two important cha...         NaN         NaN   \n",
              "2  The saint poet Kabir is one of the most intere...         NaN         NaN   \n",
              "3  Lord Indra, while riding his elephant, Airavat...         NaN         NaN   \n",
              "4  King Ratnideva was well known not only on Eart...         NaN         NaN   \n",
              "\n",
              "   https://mocomi.com/fun/stories/indian-folk-tales/  \n",
              "0                                                NaN  \n",
              "1                                                NaN  \n",
              "2                                                NaN  \n",
              "3                                                NaN  \n",
              "4                                                NaN  "
            ]
          },
          "execution_count": 32,
          "metadata": {},
          "output_type": "execute_result"
        }
      ],
      "source": [
        "stories=pd.read_csv('/content/Untitled spreadsheet - Sheet1.csv')\n",
        "stories.head()"
      ]
    },
    {
      "cell_type": "code",
      "execution_count": null,
      "metadata": {
        "id": "NyjS-sWkCtLh"
      },
      "outputs": [],
      "source": [
        "stories.drop(['Unnamed: 2','Unnamed: 3','https://mocomi.com/fun/stories/indian-folk-tales/'],inplace=True,axis=1)"
      ]
    },
    {
      "cell_type": "code",
      "execution_count": null,
      "metadata": {
        "colab": {
          "base_uri": "https://localhost:8080/",
          "height": 206
        },
        "id": "pdf9dsMFC-ol",
        "outputId": "ef6de20b-c5ce-4b8f-cb21-fb90c2c03de4"
      },
      "outputs": [
        {
          "data": {
            "text/html": [
              "\n",
              "  <div id=\"df-514fd439-89bf-433e-a9f0-c23f104dfe77\">\n",
              "    <div class=\"colab-df-container\">\n",
              "      <div>\n",
              "<style scoped>\n",
              "    .dataframe tbody tr th:only-of-type {\n",
              "        vertical-align: middle;\n",
              "    }\n",
              "\n",
              "    .dataframe tbody tr th {\n",
              "        vertical-align: top;\n",
              "    }\n",
              "\n",
              "    .dataframe thead th {\n",
              "        text-align: right;\n",
              "    }\n",
              "</style>\n",
              "<table border=\"1\" class=\"dataframe\">\n",
              "  <thead>\n",
              "    <tr style=\"text-align: right;\">\n",
              "      <th></th>\n",
              "      <th>Title</th>\n",
              "      <th>Strory</th>\n",
              "    </tr>\n",
              "  </thead>\n",
              "  <tbody>\n",
              "    <tr>\n",
              "      <th>0</th>\n",
              "      <td>Hare and Tortoise</td>\n",
              "      <td>A Hare was making fun of the Tortoise one day ...</td>\n",
              "    </tr>\n",
              "    <tr>\n",
              "      <th>1</th>\n",
              "      <td>Abhimanyu and Ghatotakach</td>\n",
              "      <td>Abhimanyu and Ghatotkach are two important cha...</td>\n",
              "    </tr>\n",
              "    <tr>\n",
              "      <th>2</th>\n",
              "      <td>Saint Kabir</td>\n",
              "      <td>The saint poet Kabir is one of the most intere...</td>\n",
              "    </tr>\n",
              "    <tr>\n",
              "      <th>3</th>\n",
              "      <td>Samudra Manthan</td>\n",
              "      <td>Lord Indra, while riding his elephant, Airavat...</td>\n",
              "    </tr>\n",
              "    <tr>\n",
              "      <th>4</th>\n",
              "      <td>King Ratnideva</td>\n",
              "      <td>King Ratnideva was well known not only on Eart...</td>\n",
              "    </tr>\n",
              "  </tbody>\n",
              "</table>\n",
              "</div>\n",
              "      <button class=\"colab-df-convert\" onclick=\"convertToInteractive('df-514fd439-89bf-433e-a9f0-c23f104dfe77')\"\n",
              "              title=\"Convert this dataframe to an interactive table.\"\n",
              "              style=\"display:none;\">\n",
              "        \n",
              "  <svg xmlns=\"http://www.w3.org/2000/svg\" height=\"24px\"viewBox=\"0 0 24 24\"\n",
              "       width=\"24px\">\n",
              "    <path d=\"M0 0h24v24H0V0z\" fill=\"none\"/>\n",
              "    <path d=\"M18.56 5.44l.94 2.06.94-2.06 2.06-.94-2.06-.94-.94-2.06-.94 2.06-2.06.94zm-11 1L8.5 8.5l.94-2.06 2.06-.94-2.06-.94L8.5 2.5l-.94 2.06-2.06.94zm10 10l.94 2.06.94-2.06 2.06-.94-2.06-.94-.94-2.06-.94 2.06-2.06.94z\"/><path d=\"M17.41 7.96l-1.37-1.37c-.4-.4-.92-.59-1.43-.59-.52 0-1.04.2-1.43.59L10.3 9.45l-7.72 7.72c-.78.78-.78 2.05 0 2.83L4 21.41c.39.39.9.59 1.41.59.51 0 1.02-.2 1.41-.59l7.78-7.78 2.81-2.81c.8-.78.8-2.07 0-2.86zM5.41 20L4 18.59l7.72-7.72 1.47 1.35L5.41 20z\"/>\n",
              "  </svg>\n",
              "      </button>\n",
              "      \n",
              "  <style>\n",
              "    .colab-df-container {\n",
              "      display:flex;\n",
              "      flex-wrap:wrap;\n",
              "      gap: 12px;\n",
              "    }\n",
              "\n",
              "    .colab-df-convert {\n",
              "      background-color: #E8F0FE;\n",
              "      border: none;\n",
              "      border-radius: 50%;\n",
              "      cursor: pointer;\n",
              "      display: none;\n",
              "      fill: #1967D2;\n",
              "      height: 32px;\n",
              "      padding: 0 0 0 0;\n",
              "      width: 32px;\n",
              "    }\n",
              "\n",
              "    .colab-df-convert:hover {\n",
              "      background-color: #E2EBFA;\n",
              "      box-shadow: 0px 1px 2px rgba(60, 64, 67, 0.3), 0px 1px 3px 1px rgba(60, 64, 67, 0.15);\n",
              "      fill: #174EA6;\n",
              "    }\n",
              "\n",
              "    [theme=dark] .colab-df-convert {\n",
              "      background-color: #3B4455;\n",
              "      fill: #D2E3FC;\n",
              "    }\n",
              "\n",
              "    [theme=dark] .colab-df-convert:hover {\n",
              "      background-color: #434B5C;\n",
              "      box-shadow: 0px 1px 3px 1px rgba(0, 0, 0, 0.15);\n",
              "      filter: drop-shadow(0px 1px 2px rgba(0, 0, 0, 0.3));\n",
              "      fill: #FFFFFF;\n",
              "    }\n",
              "  </style>\n",
              "\n",
              "      <script>\n",
              "        const buttonEl =\n",
              "          document.querySelector('#df-514fd439-89bf-433e-a9f0-c23f104dfe77 button.colab-df-convert');\n",
              "        buttonEl.style.display =\n",
              "          google.colab.kernel.accessAllowed ? 'block' : 'none';\n",
              "\n",
              "        async function convertToInteractive(key) {\n",
              "          const element = document.querySelector('#df-514fd439-89bf-433e-a9f0-c23f104dfe77');\n",
              "          const dataTable =\n",
              "            await google.colab.kernel.invokeFunction('convertToInteractive',\n",
              "                                                     [key], {});\n",
              "          if (!dataTable) return;\n",
              "\n",
              "          const docLinkHtml = 'Like what you see? Visit the ' +\n",
              "            '<a target=\"_blank\" href=https://colab.research.google.com/notebooks/data_table.ipynb>data table notebook</a>'\n",
              "            + ' to learn more about interactive tables.';\n",
              "          element.innerHTML = '';\n",
              "          dataTable['output_type'] = 'display_data';\n",
              "          await google.colab.output.renderOutput(dataTable, element);\n",
              "          const docLink = document.createElement('div');\n",
              "          docLink.innerHTML = docLinkHtml;\n",
              "          element.appendChild(docLink);\n",
              "        }\n",
              "      </script>\n",
              "    </div>\n",
              "  </div>\n",
              "  "
            ],
            "text/plain": [
              "                       Title  \\\n",
              "0          Hare and Tortoise   \n",
              "1  Abhimanyu and Ghatotakach   \n",
              "2                Saint Kabir   \n",
              "3            Samudra Manthan   \n",
              "4             King Ratnideva   \n",
              "\n",
              "                                              Strory  \n",
              "0  A Hare was making fun of the Tortoise one day ...  \n",
              "1  Abhimanyu and Ghatotkach are two important cha...  \n",
              "2  The saint poet Kabir is one of the most intere...  \n",
              "3  Lord Indra, while riding his elephant, Airavat...  \n",
              "4  King Ratnideva was well known not only on Eart...  "
            ]
          },
          "execution_count": 35,
          "metadata": {},
          "output_type": "execute_result"
        }
      ],
      "source": [
        "stories.head()"
      ]
    },
    {
      "cell_type": "code",
      "execution_count": null,
      "metadata": {
        "id": "R5EAi9UjEKhm"
      },
      "outputs": [],
      "source": [
        "stories.drop([12],inplace=True)"
      ]
    },
    {
      "cell_type": "code",
      "execution_count": null,
      "metadata": {
        "colab": {
          "base_uri": "https://localhost:8080/"
        },
        "id": "bEWyEydm24_a",
        "outputId": "a5e4e6cf-be73-46f0-a883-8d4a7c883ff0"
      },
      "outputs": [
        {
          "name": "stdout",
          "output_type": "stream",
          "text": [
            "{'using', 'would', '‘ll', 'empty', 'among', 'here', 'should', '’s', 'also', 'two', \"'ll\", 'must', 'its', 'again', 'as', 'whom', 'herself', 'am', 'otherwise', 'sixty', '’d', 'thence', 'me', 're', 'be', 'own', 'while', 'less', 'fifteen', 'can', 'behind', \"'ve\", 'across', 'thus', 'mostly', 'nowhere', 'very', 'least', 'beforehand', 'why', 'enough', 'now', 'at', 'whereby', 'still', 'been', 'may', 'six', 'always', 'the', 'upon', 'somewhere', 'namely', 'there', 'front', 'with', 'under', 'quite', 'doing', \"'s\", 'done', 'rather', 'ever', 'yet', 'off', 'became', 'few', \"'d\", 'ours', 'so', 'due', 'made', 'already', 'an', 'indeed', 'ca', 'formerly', 'only', 'nevertheless', 'give', 'we', 'make', 'whereupon', 'might', 'whence', 'their', 'whenever', '’ve', 'not', 'of', 'really', 'first', '’ll', 'they', 'yourselves', 'well', 'hers', '‘ve', 'a', 'put', 'say', 'third', 'either', 'since', 'hereupon', 'where', 'n‘t', 'how', 'she', 'eleven', 'whoever', 'could', 'wherever', 'twenty', 'forty', 'keep', 'though', 'whereafter', '‘d', 'noone', 'until', 'whereas', 'mine', 'down', 'then', 'within', 'any', 'during', 'move', 'per', 'is', 'become', 'moreover', 'it', 'anywhere', 'afterwards', 'ten', 'itself', 'another', 'once', 'i', 'over', 'than', 'us', 'something', 'elsewhere', 'anyhow', 'various', 'take', 'around', 'thereafter', 'go', 'almost', 'whether', 'throughout', 'hundred', 'nor', 'hence', '’re', 'was', '’m', 'on', 'get', 'although', 'else', 'most', 'her', \"'m\", 'each', 'but', 'cannot', 'some', 'and', 'herein', 'our', 'neither', 'beside', 'hereafter', 'twelve', 'please', 'in', 'thru', 'against', 'whatever', 'yourself', 'someone', 'much', 'whose', 'none', 'next', 'full', 'everyone', 'who', 'too', 'anyone', 'between', 'towards', 'many', 'them', 'often', 'call', 'former', 'amongst', 'last', 'or', 'whither', 'such', 'his', \"'re\", 'thereupon', 'onto', 'your', 'which', 'sometime', 'therein', 'to', 'nine', \"n't\", 'does', 'him', 'before', 'anything', 'if', 'besides', 'however', 'themselves', 'name', 'has', 'even', 'will', 'side', 'back', 'you', 'he', 'bottom', 'everything', 'after', 'others', 'along', 'do', 'without', 'latter', 'yours', 'thereby', 'ourselves', 'through', 'show', 'used', 'into', 'these', '‘s', 'those', '‘re', 'regarding', 'what', 'myself', 'n’t', 'becomes', 'anyway', 'both', 'therefore', 'beyond', 'somehow', 'more', 'four', '‘m', 'see', 'except', 'part', 'that', 'below', 'every', 'other', 'for', 'out', 'this', 'nothing', 'five', 'serious', 'never', 'latterly', 'no', 'meanwhile', 'further', 'perhaps', 'up', 'seeming', 'have', 'sometimes', 'amount', 'all', 'fifty', 'eight', 'above', 'seemed', 'hereby', 'alone', 'nobody', 'seems', 'were', 'three', 'being', 'same', 'everywhere', 'whole', 'together', 'becoming', 'just', 'toward', 'several', 'wherein', 'seem', 'himself', 'my', 'about', 'are', 'from', 'had', 'did', 'by', 'one', 'top', 'when', 'because', 'via', 'unless'}\n"
          ]
        }
      ],
      "source": [
        "import spacy\n",
        "#loading the english language small model of spacy\n",
        "en = spacy.load('en_core_web_sm')\n",
        "sw_spacy = en.Defaults.stop_words\n",
        "print(sw_spacy)"
      ]
    },
    {
      "cell_type": "code",
      "execution_count": null,
      "metadata": {
        "id": "rX6Iw1zR4wBR"
      },
      "outputs": [],
      "source": [
        "text=\"A Hare was making fun of the Tortoise one day for being so slow Do you ever get anywhere? he asked with a mocking laugh. Yes, replied the Tortoise, and I get there sooner than you think. Ill run you a race and prove it. The Hare was much amused at the idea of running a race with the Tortoise, but for the fun of the thing he agreed. So the Fox, who had consented to act as judge, marked the distance and started the runners off. The Hare was soon far out of sight, and to make the Tortoise feel very deeply how ridiculous it was for him to try a race with a Hare, he lay down beside the course to take a nap until the Tortoise should catch up.The Tortoise meanwhile kept going slowly but steadily, and, after a time, passed the place where the Hare was sleeping. But the Hare slept on very peacefully; and when at last he did wake up, the Tortoise was near the goal. The Hare now ran his swiftest, but he could not overtake the Tortoise in time.\""
      ]
    },
    {
      "cell_type": "code",
      "execution_count": null,
      "metadata": {
        "colab": {
          "base_uri": "https://localhost:8080/"
        },
        "id": "yJmJkx0d5kld",
        "outputId": "969c08c6-be9e-4c18-f16b-c90c66a5dfae"
      },
      "outputs": [
        {
          "name": "stdout",
          "output_type": "stream",
          "text": [
            "Hare making fun Tortoise day slow anywhere? asked mocking laugh. Yes, replied Tortoise, sooner think. Ill run race prove it. Hare amused idea running race Tortoise, fun thing agreed. Fox, consented act judge, marked distance started runners off. Hare soon far sight, Tortoise feel deeply ridiculous try race Hare, lay course nap Tortoise catch up.The Tortoise kept going slowly steadily, and, time, passed place Hare sleeping. Hare slept peacefully; wake up, Tortoise near goal. Hare ran swiftest, overtake Tortoise time.\n"
          ]
        }
      ],
      "source": [
        "words = [word for word in text.split() if word.lower() not in sw_spacy]\n",
        "new_text = \" \".join(words)\n",
        "print(new_text)"
      ]
    },
    {
      "cell_type": "code",
      "execution_count": null,
      "metadata": {
        "colab": {
          "base_uri": "https://localhost:8080/"
        },
        "id": "2EplwnB85k0Y",
        "outputId": "f8d30e04-bac8-4089-dca8-89daad33c67c"
      },
      "outputs": [
        {
          "name": "stdout",
          "output_type": "stream",
          "text": [
            "Old length:  946\n",
            "New length:  521\n"
          ]
        }
      ],
      "source": [
        "print(\"Old length: \", len(text))\n",
        "print(\"New length: \", len(new_text))"
      ]
    },
    {
      "cell_type": "code",
      "execution_count": null,
      "metadata": {
        "colab": {
          "base_uri": "https://localhost:8080/"
        },
        "id": "m5TduLj-6sVw",
        "outputId": "47c13438-a4d3-408b-f732-9e39fad8ea21"
      },
      "outputs": [
        {
          "name": "stdout",
          "output_type": "stream",
          "text": [
            "Hare making fun Tortoise day slow anywhere asked mocking laugh Yes replied Tortoise sooner think Ill run race prove it Hare amused idea running race Tortoise fun thing agreed Fox consented act judge marked distance started runners off Hare soon far sight Tortoise feel deeply ridiculous try race Hare lay course nap Tortoise catch upThe Tortoise kept going slowly steadily and time passed place Hare sleeping Hare slept peacefully wake up Tortoise near goal Hare ran swiftest overtake Tortoise time\n"
          ]
        }
      ],
      "source": [
        "import string\n",
        " \n",
        "test_str = new_text.translate(str.maketrans('', '', string.punctuation))\n",
        "print(test_str)"
      ]
    },
    {
      "cell_type": "code",
      "execution_count": null,
      "metadata": {
        "id": "mO8mvBpH6jQE"
      },
      "outputs": [],
      "source": [
        "from collections import Counter"
      ]
    },
    {
      "cell_type": "code",
      "execution_count": null,
      "metadata": {
        "id": "djw42XDt6jvF"
      },
      "outputs": [],
      "source": [
        "word_list = test_str.split()"
      ]
    },
    {
      "cell_type": "code",
      "execution_count": null,
      "metadata": {
        "id": "LYzRKg9_6nIS"
      },
      "outputs": [],
      "source": [
        "word_count = Counter(word_list)"
      ]
    },
    {
      "cell_type": "code",
      "execution_count": null,
      "metadata": {
        "colab": {
          "base_uri": "https://localhost:8080/"
        },
        "id": "EU3BtQhg6o4p",
        "outputId": "991a3058-b892-4683-bfe7-947ba77e99b9"
      },
      "outputs": [
        {
          "name": "stdout",
          "output_type": "stream",
          "text": [
            "[('Tortoise', 8), ('Hare', 7), ('race', 3), ('fun', 2), ('time', 2), ('making', 1), ('day', 1), ('slow', 1), ('anywhere', 1), ('asked', 1)]\n"
          ]
        }
      ],
      "source": [
        "print(word_count.most_common(10))"
      ]
    },
    {
      "cell_type": "code",
      "execution_count": null,
      "metadata": {
        "id": "0RZknshj8Fy6"
      },
      "outputs": [],
      "source": [
        "counts=[]\n",
        "m=word_count.most_common(10)"
      ]
    },
    {
      "cell_type": "code",
      "execution_count": null,
      "metadata": {
        "id": "n9QO1n7G7NkH"
      },
      "outputs": [],
      "source": [
        "res = [lis[0] for lis in m]"
      ]
    },
    {
      "cell_type": "code",
      "execution_count": null,
      "metadata": {
        "colab": {
          "base_uri": "https://localhost:8080/"
        },
        "id": "4a5w0Ki57zrY",
        "outputId": "5059930b-d753-47b2-b614-1997c08dec57"
      },
      "outputs": [
        {
          "name": "stdout",
          "output_type": "stream",
          "text": [
            "['Tortoise', 'Hare', 'race', 'fun', 'time', 'making', 'day', 'slow', 'anywhere', 'asked']\n"
          ]
        }
      ],
      "source": [
        "print(res)"
      ]
    },
    {
      "cell_type": "code",
      "execution_count": null,
      "metadata": {
        "id": "KLi1YbAsDBzY"
      },
      "outputs": [],
      "source": [
        "keypoints=[]"
      ]
    },
    {
      "cell_type": "code",
      "execution_count": null,
      "metadata": {
        "colab": {
          "base_uri": "https://localhost:8080/"
        },
        "id": "o9uO3UpNDuW2",
        "outputId": "73d9cc6d-e27e-4abf-f17a-3c032a1cf0b1"
      },
      "outputs": [
        {
          "name": "stdout",
          "output_type": "stream",
          "text": [
            "<class 'pandas.core.frame.DataFrame'>\n",
            "Int64Index: 12 entries, 0 to 11\n",
            "Data columns (total 3 columns):\n",
            " #   Column     Non-Null Count  Dtype \n",
            "---  ------     --------------  ----- \n",
            " 0   Title      12 non-null     object\n",
            " 1   Strory     12 non-null     object\n",
            " 2   keypoints  12 non-null     object\n",
            "dtypes: object(3)\n",
            "memory usage: 384.0+ bytes\n"
          ]
        }
      ],
      "source": [
        "stories.info()"
      ]
    },
    {
      "cell_type": "code",
      "execution_count": null,
      "metadata": {
        "id": "RXXAAw1wDEEf"
      },
      "outputs": [],
      "source": [
        "for i in stories['Strory']:\n",
        "  words = [word for word in i.split() if i.lower() not in sw_spacy]\n",
        "  new_text = \" \".join(words)\n",
        "  test_str = new_text.translate(str.maketrans('', '', string.punctuation))\n",
        "  word_list = test_str.split()\n",
        "  word_count = Counter(word_list)\n",
        "  counts=[]\n",
        "  m=word_count.most_common(10)\n",
        "  res = [lis[0] for lis in m]\n",
        "  keypoints.append(res)"
      ]
    },
    {
      "cell_type": "code",
      "execution_count": null,
      "metadata": {
        "colab": {
          "base_uri": "https://localhost:8080/"
        },
        "id": "RpGsQyQtEGEh",
        "outputId": "b0f53b99-52f3-4176-daa5-21ff3aaef3ff"
      },
      "outputs": [
        {
          "data": {
            "text/plain": [
              "[['the', 'Tortoise', 'Hare', 'a', 'was', 'and', 'he', 'of', 'The', 'to'],\n",
              " ['and',\n",
              "  'the',\n",
              "  'of',\n",
              "  'in',\n",
              "  'Ghatotkach',\n",
              "  'Abhimanyu',\n",
              "  'were',\n",
              "  'was',\n",
              "  'to',\n",
              "  'Both'],\n",
              " ['the', 'Kabir', 'of', 'a', 'in', 'and', 'was', 'his', 'to', 'Ramanand'],\n",
              " ['the', 'and', 'Devas', 'to', 'of', 'amrit', 'Lord', 'The', 'a', 'Asuras'],\n",
              " ['and', 'the', 'he', 'was', 'his', 'to', 'of', 'Ratnideva', 'food', 'for'],\n",
              " ['the', 'Lord', 'to', 'his', 'and', 'Shiva', 'Vrikasura', 'of', 'him', 'a'],\n",
              " ['the',\n",
              "  'and',\n",
              "  'is',\n",
              "  'of',\n",
              "  'Saraswati',\n",
              "  'a',\n",
              "  'Goddess',\n",
              "  'with',\n",
              "  'in',\n",
              "  'knowledge'],\n",
              " ['the', 'and', 'to', 'Ganga', 'is', 'of', 'a', 'in', 'river', 'it'],\n",
              " ['and', 'the', 'a', 'is', 'Indra', 'to', 'of', 'as', 'God', 'he'],\n",
              " ['the',\n",
              "  'and',\n",
              "  'elephant',\n",
              "  'was',\n",
              "  'he',\n",
              "  'a',\n",
              "  'baby',\n",
              "  'The',\n",
              "  'crocodile',\n",
              "  'He'],\n",
              " ['the',\n",
              "  'hippo',\n",
              "  'and',\n",
              "  'of',\n",
              "  'his',\n",
              "  'tortoise',\n",
              "  'The',\n",
              "  'wives',\n",
              "  'to',\n",
              "  'name'],\n",
              " ['the',\n",
              "  'Devas',\n",
              "  'Asuras',\n",
              "  'in',\n",
              "  'to',\n",
              "  'The',\n",
              "  'ocean',\n",
              "  'and',\n",
              "  'would',\n",
              "  'Indra']]"
            ]
          },
          "execution_count": 70,
          "metadata": {},
          "output_type": "execute_result"
        }
      ],
      "source": [
        "keypoints"
      ]
    },
    {
      "cell_type": "code",
      "execution_count": null,
      "metadata": {
        "colab": {
          "base_uri": "https://localhost:8080/"
        },
        "id": "C-uxOol1EzDy",
        "outputId": "997201f1-d9b5-4c85-9822-761c50f1979a"
      },
      "outputs": [
        {
          "data": {
            "text/plain": [
              "12"
            ]
          },
          "execution_count": 71,
          "metadata": {},
          "output_type": "execute_result"
        }
      ],
      "source": [
        "len(keypoints)"
      ]
    },
    {
      "cell_type": "code",
      "execution_count": null,
      "metadata": {
        "id": "mx38OByyEhxN"
      },
      "outputs": [],
      "source": [
        "stories['keypoints']=keypoints"
      ]
    },
    {
      "cell_type": "code",
      "execution_count": null,
      "metadata": {
        "id": "xdvzJ_4WIXYe"
      },
      "outputs": [],
      "source": [
        "keys=[]"
      ]
    },
    {
      "cell_type": "code",
      "execution_count": null,
      "metadata": {
        "colab": {
          "base_uri": "https://localhost:8080/",
          "height": 426
        },
        "id": "k28B2OfbEv3o",
        "outputId": "5bc33b7b-71d6-4bff-bfbf-d256d1b7e8c0"
      },
      "outputs": [
        {
          "data": {
            "text/html": [
              "\n",
              "  <div id=\"df-6c4cce5e-cb43-4503-9506-55529697feb8\">\n",
              "    <div class=\"colab-df-container\">\n",
              "      <div>\n",
              "<style scoped>\n",
              "    .dataframe tbody tr th:only-of-type {\n",
              "        vertical-align: middle;\n",
              "    }\n",
              "\n",
              "    .dataframe tbody tr th {\n",
              "        vertical-align: top;\n",
              "    }\n",
              "\n",
              "    .dataframe thead th {\n",
              "        text-align: right;\n",
              "    }\n",
              "</style>\n",
              "<table border=\"1\" class=\"dataframe\">\n",
              "  <thead>\n",
              "    <tr style=\"text-align: right;\">\n",
              "      <th></th>\n",
              "      <th>Title</th>\n",
              "      <th>Strory</th>\n",
              "      <th>keypoints</th>\n",
              "    </tr>\n",
              "  </thead>\n",
              "  <tbody>\n",
              "    <tr>\n",
              "      <th>0</th>\n",
              "      <td>Hare and Tortoise</td>\n",
              "      <td>A Hare was making fun of the Tortoise one day ...</td>\n",
              "      <td>[the, Tortoise, Hare, a, was, and, he, of, The...</td>\n",
              "    </tr>\n",
              "    <tr>\n",
              "      <th>1</th>\n",
              "      <td>Abhimanyu and Ghatotakach</td>\n",
              "      <td>Abhimanyu and Ghatotkach are two important cha...</td>\n",
              "      <td>[and, the, of, in, Ghatotkach, Abhimanyu, were...</td>\n",
              "    </tr>\n",
              "    <tr>\n",
              "      <th>2</th>\n",
              "      <td>Saint Kabir</td>\n",
              "      <td>The saint poet Kabir is one of the most intere...</td>\n",
              "      <td>[the, Kabir, of, a, in, and, was, his, to, Ram...</td>\n",
              "    </tr>\n",
              "    <tr>\n",
              "      <th>3</th>\n",
              "      <td>Samudra Manthan</td>\n",
              "      <td>Lord Indra, while riding his elephant, Airavat...</td>\n",
              "      <td>[the, and, Devas, to, of, amrit, Lord, The, a,...</td>\n",
              "    </tr>\n",
              "    <tr>\n",
              "      <th>4</th>\n",
              "      <td>King Ratnideva</td>\n",
              "      <td>King Ratnideva was well known not only on Eart...</td>\n",
              "      <td>[and, the, he, was, his, to, of, Ratnideva, fo...</td>\n",
              "    </tr>\n",
              "    <tr>\n",
              "      <th>5</th>\n",
              "      <td>Vrikasura</td>\n",
              "      <td>Once, while on his way, the wicked asura (demo...</td>\n",
              "      <td>[the, Lord, to, his, and, Shiva, Vrikasura, of...</td>\n",
              "    </tr>\n",
              "    <tr>\n",
              "      <th>6</th>\n",
              "      <td>Saraswati</td>\n",
              "      <td>Saraswati is the Hindu goddess of knowledge, m...</td>\n",
              "      <td>[the, and, is, of, Saraswati, a, Goddess, with...</td>\n",
              "    </tr>\n",
              "    <tr>\n",
              "      <th>7</th>\n",
              "      <td>Ganga</td>\n",
              "      <td>Ganga is India’s longest river. It originates ...</td>\n",
              "      <td>[the, and, to, Ganga, is, of, a, in, river, it]</td>\n",
              "    </tr>\n",
              "    <tr>\n",
              "      <th>8</th>\n",
              "      <td>Lord Indra</td>\n",
              "      <td>Lord Indra is a Hindu God and is believed to b...</td>\n",
              "      <td>[and, the, a, is, Indra, to, of, as, God, he]</td>\n",
              "    </tr>\n",
              "    <tr>\n",
              "      <th>9</th>\n",
              "      <td>Elephant's nose</td>\n",
              "      <td>Many years ago, the elephant’s nose was not as...</td>\n",
              "      <td>[the, and, elephant, was, he, a, baby, The, cr...</td>\n",
              "    </tr>\n",
              "    <tr>\n",
              "      <th>10</th>\n",
              "      <td>Hippopotamus and Tortoise</td>\n",
              "      <td>A very long time ago, there was a hippopotamus...</td>\n",
              "      <td>[the, hippo, and, of, his, tortoise, The, wive...</td>\n",
              "    </tr>\n",
              "    <tr>\n",
              "      <th>11</th>\n",
              "      <td>Agasthya drinks the ocean</td>\n",
              "      <td>Devas and Asuras were cousins who were always ...</td>\n",
              "      <td>[the, Devas, Asuras, in, to, The, ocean, and, ...</td>\n",
              "    </tr>\n",
              "  </tbody>\n",
              "</table>\n",
              "</div>\n",
              "      <button class=\"colab-df-convert\" onclick=\"convertToInteractive('df-6c4cce5e-cb43-4503-9506-55529697feb8')\"\n",
              "              title=\"Convert this dataframe to an interactive table.\"\n",
              "              style=\"display:none;\">\n",
              "        \n",
              "  <svg xmlns=\"http://www.w3.org/2000/svg\" height=\"24px\"viewBox=\"0 0 24 24\"\n",
              "       width=\"24px\">\n",
              "    <path d=\"M0 0h24v24H0V0z\" fill=\"none\"/>\n",
              "    <path d=\"M18.56 5.44l.94 2.06.94-2.06 2.06-.94-2.06-.94-.94-2.06-.94 2.06-2.06.94zm-11 1L8.5 8.5l.94-2.06 2.06-.94-2.06-.94L8.5 2.5l-.94 2.06-2.06.94zm10 10l.94 2.06.94-2.06 2.06-.94-2.06-.94-.94-2.06-.94 2.06-2.06.94z\"/><path d=\"M17.41 7.96l-1.37-1.37c-.4-.4-.92-.59-1.43-.59-.52 0-1.04.2-1.43.59L10.3 9.45l-7.72 7.72c-.78.78-.78 2.05 0 2.83L4 21.41c.39.39.9.59 1.41.59.51 0 1.02-.2 1.41-.59l7.78-7.78 2.81-2.81c.8-.78.8-2.07 0-2.86zM5.41 20L4 18.59l7.72-7.72 1.47 1.35L5.41 20z\"/>\n",
              "  </svg>\n",
              "      </button>\n",
              "      \n",
              "  <style>\n",
              "    .colab-df-container {\n",
              "      display:flex;\n",
              "      flex-wrap:wrap;\n",
              "      gap: 12px;\n",
              "    }\n",
              "\n",
              "    .colab-df-convert {\n",
              "      background-color: #E8F0FE;\n",
              "      border: none;\n",
              "      border-radius: 50%;\n",
              "      cursor: pointer;\n",
              "      display: none;\n",
              "      fill: #1967D2;\n",
              "      height: 32px;\n",
              "      padding: 0 0 0 0;\n",
              "      width: 32px;\n",
              "    }\n",
              "\n",
              "    .colab-df-convert:hover {\n",
              "      background-color: #E2EBFA;\n",
              "      box-shadow: 0px 1px 2px rgba(60, 64, 67, 0.3), 0px 1px 3px 1px rgba(60, 64, 67, 0.15);\n",
              "      fill: #174EA6;\n",
              "    }\n",
              "\n",
              "    [theme=dark] .colab-df-convert {\n",
              "      background-color: #3B4455;\n",
              "      fill: #D2E3FC;\n",
              "    }\n",
              "\n",
              "    [theme=dark] .colab-df-convert:hover {\n",
              "      background-color: #434B5C;\n",
              "      box-shadow: 0px 1px 3px 1px rgba(0, 0, 0, 0.15);\n",
              "      filter: drop-shadow(0px 1px 2px rgba(0, 0, 0, 0.3));\n",
              "      fill: #FFFFFF;\n",
              "    }\n",
              "  </style>\n",
              "\n",
              "      <script>\n",
              "        const buttonEl =\n",
              "          document.querySelector('#df-6c4cce5e-cb43-4503-9506-55529697feb8 button.colab-df-convert');\n",
              "        buttonEl.style.display =\n",
              "          google.colab.kernel.accessAllowed ? 'block' : 'none';\n",
              "\n",
              "        async function convertToInteractive(key) {\n",
              "          const element = document.querySelector('#df-6c4cce5e-cb43-4503-9506-55529697feb8');\n",
              "          const dataTable =\n",
              "            await google.colab.kernel.invokeFunction('convertToInteractive',\n",
              "                                                     [key], {});\n",
              "          if (!dataTable) return;\n",
              "\n",
              "          const docLinkHtml = 'Like what you see? Visit the ' +\n",
              "            '<a target=\"_blank\" href=https://colab.research.google.com/notebooks/data_table.ipynb>data table notebook</a>'\n",
              "            + ' to learn more about interactive tables.';\n",
              "          element.innerHTML = '';\n",
              "          dataTable['output_type'] = 'display_data';\n",
              "          await google.colab.output.renderOutput(dataTable, element);\n",
              "          const docLink = document.createElement('div');\n",
              "          docLink.innerHTML = docLinkHtml;\n",
              "          element.appendChild(docLink);\n",
              "        }\n",
              "      </script>\n",
              "    </div>\n",
              "  </div>\n",
              "  "
            ],
            "text/plain": [
              "                        Title  \\\n",
              "0           Hare and Tortoise   \n",
              "1   Abhimanyu and Ghatotakach   \n",
              "2                 Saint Kabir   \n",
              "3             Samudra Manthan   \n",
              "4              King Ratnideva   \n",
              "5                   Vrikasura   \n",
              "6                   Saraswati   \n",
              "7                       Ganga   \n",
              "8                  Lord Indra   \n",
              "9             Elephant's nose   \n",
              "10  Hippopotamus and Tortoise   \n",
              "11  Agasthya drinks the ocean   \n",
              "\n",
              "                                               Strory  \\\n",
              "0   A Hare was making fun of the Tortoise one day ...   \n",
              "1   Abhimanyu and Ghatotkach are two important cha...   \n",
              "2   The saint poet Kabir is one of the most intere...   \n",
              "3   Lord Indra, while riding his elephant, Airavat...   \n",
              "4   King Ratnideva was well known not only on Eart...   \n",
              "5   Once, while on his way, the wicked asura (demo...   \n",
              "6   Saraswati is the Hindu goddess of knowledge, m...   \n",
              "7   Ganga is India’s longest river. It originates ...   \n",
              "8   Lord Indra is a Hindu God and is believed to b...   \n",
              "9   Many years ago, the elephant’s nose was not as...   \n",
              "10  A very long time ago, there was a hippopotamus...   \n",
              "11  Devas and Asuras were cousins who were always ...   \n",
              "\n",
              "                                            keypoints  \n",
              "0   [the, Tortoise, Hare, a, was, and, he, of, The...  \n",
              "1   [and, the, of, in, Ghatotkach, Abhimanyu, were...  \n",
              "2   [the, Kabir, of, a, in, and, was, his, to, Ram...  \n",
              "3   [the, and, Devas, to, of, amrit, Lord, The, a,...  \n",
              "4   [and, the, he, was, his, to, of, Ratnideva, fo...  \n",
              "5   [the, Lord, to, his, and, Shiva, Vrikasura, of...  \n",
              "6   [the, and, is, of, Saraswati, a, Goddess, with...  \n",
              "7     [the, and, to, Ganga, is, of, a, in, river, it]  \n",
              "8       [and, the, a, is, Indra, to, of, as, God, he]  \n",
              "9   [the, and, elephant, was, he, a, baby, The, cr...  \n",
              "10  [the, hippo, and, of, his, tortoise, The, wive...  \n",
              "11  [the, Devas, Asuras, in, to, The, ocean, and, ...  "
            ]
          },
          "execution_count": 73,
          "metadata": {},
          "output_type": "execute_result"
        }
      ],
      "source": [
        "stories"
      ]
    },
    {
      "cell_type": "code",
      "execution_count": null,
      "metadata": {
        "id": "D20IIreqFjHU"
      },
      "outputs": [],
      "source": [
        "stories.to_csv('stories.csv')"
      ]
    },
    {
      "cell_type": "code",
      "execution_count": null,
      "metadata": {
        "id": "1VhIw9XxGfXS"
      },
      "outputs": [],
      "source": [
        "for i in stories['keypoints']:\n",
        "  for j in i: \n",
        "    keys.append(j)"
      ]
    },
    {
      "cell_type": "code",
      "execution_count": null,
      "metadata": {
        "colab": {
          "base_uri": "https://localhost:8080/"
        },
        "id": "ARuX7NoiIkm5",
        "outputId": "d5682ad8-aeb1-495f-a743-dfbd2b21527c"
      },
      "outputs": [
        {
          "data": {
            "text/plain": [
              "['the',\n",
              " 'Tortoise',\n",
              " 'Hare',\n",
              " 'a',\n",
              " 'was',\n",
              " 'and',\n",
              " 'he',\n",
              " 'of',\n",
              " 'The',\n",
              " 'to',\n",
              " 'and',\n",
              " 'the',\n",
              " 'of',\n",
              " 'in',\n",
              " 'Ghatotkach',\n",
              " 'Abhimanyu',\n",
              " 'were',\n",
              " 'was',\n",
              " 'to',\n",
              " 'Both',\n",
              " 'the',\n",
              " 'Kabir',\n",
              " 'of',\n",
              " 'a',\n",
              " 'in',\n",
              " 'and',\n",
              " 'was',\n",
              " 'his',\n",
              " 'to',\n",
              " 'Ramanand',\n",
              " 'the',\n",
              " 'and',\n",
              " 'Devas',\n",
              " 'to',\n",
              " 'of',\n",
              " 'amrit',\n",
              " 'Lord',\n",
              " 'The',\n",
              " 'a',\n",
              " 'Asuras',\n",
              " 'and',\n",
              " 'the',\n",
              " 'he',\n",
              " 'was',\n",
              " 'his',\n",
              " 'to',\n",
              " 'of',\n",
              " 'Ratnideva',\n",
              " 'food',\n",
              " 'for',\n",
              " 'the',\n",
              " 'Lord',\n",
              " 'to',\n",
              " 'his',\n",
              " 'and',\n",
              " 'Shiva',\n",
              " 'Vrikasura',\n",
              " 'of',\n",
              " 'him',\n",
              " 'a',\n",
              " 'the',\n",
              " 'and',\n",
              " 'is',\n",
              " 'of',\n",
              " 'Saraswati',\n",
              " 'a',\n",
              " 'Goddess',\n",
              " 'with',\n",
              " 'in',\n",
              " 'knowledge',\n",
              " 'the',\n",
              " 'and',\n",
              " 'to',\n",
              " 'Ganga',\n",
              " 'is',\n",
              " 'of',\n",
              " 'a',\n",
              " 'in',\n",
              " 'river',\n",
              " 'it',\n",
              " 'and',\n",
              " 'the',\n",
              " 'a',\n",
              " 'is',\n",
              " 'Indra',\n",
              " 'to',\n",
              " 'of',\n",
              " 'as',\n",
              " 'God',\n",
              " 'he',\n",
              " 'the',\n",
              " 'and',\n",
              " 'elephant',\n",
              " 'was',\n",
              " 'he',\n",
              " 'a',\n",
              " 'baby',\n",
              " 'The',\n",
              " 'crocodile',\n",
              " 'He',\n",
              " 'the',\n",
              " 'hippo',\n",
              " 'and',\n",
              " 'of',\n",
              " 'his',\n",
              " 'tortoise',\n",
              " 'The',\n",
              " 'wives',\n",
              " 'to',\n",
              " 'name',\n",
              " 'the',\n",
              " 'Devas',\n",
              " 'Asuras',\n",
              " 'in',\n",
              " 'to',\n",
              " 'The',\n",
              " 'ocean',\n",
              " 'and',\n",
              " 'would',\n",
              " 'Indra']"
            ]
          },
          "execution_count": 77,
          "metadata": {},
          "output_type": "execute_result"
        }
      ],
      "source": [
        "keys"
      ]
    },
    {
      "cell_type": "code",
      "execution_count": null,
      "metadata": {
        "id": "eNmvr-0DIlac"
      },
      "outputs": [],
      "source": []
    }
  ],
  "metadata": {
    "colab": {
      "provenance": []
    },
    "kernelspec": {
      "display_name": "Python 3.9.13 64-bit (microsoft store)",
      "language": "python",
      "name": "python3"
    },
    "language_info": {
      "name": "python",
      "version": "3.9.13"
    },
    "vscode": {
      "interpreter": {
        "hash": "43a24ecce625020f2d6631fb4cfb730bba30d877e9fe9ec2e0d85cb5a52a2b64"
      }
    }
  },
  "nbformat": 4,
  "nbformat_minor": 0
}
